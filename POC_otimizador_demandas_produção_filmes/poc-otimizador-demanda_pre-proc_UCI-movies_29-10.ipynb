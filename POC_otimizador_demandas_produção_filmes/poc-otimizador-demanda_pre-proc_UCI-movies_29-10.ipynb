{
 "cells": [
  {
   "cell_type": "code",
   "execution_count": 38,
   "metadata": {
    "executionInfo": {
     "elapsed": 746,
     "status": "ok",
     "timestamp": 1603983441218,
     "user": {
      "displayName": "Alan Henrique Ferreira",
      "photoUrl": "https://lh3.googleusercontent.com/a-/AOh14GjpVgl9IJk6pjvwLIAIPQAUAFSVmp1oPr_BectE6pc=s64",
      "userId": "10045617388689385523"
     },
     "user_tz": 180
    },
    "id": "2zq85r0EBiEG"
   },
   "outputs": [],
   "source": [
    "import pandas as pd\n",
    "import matplotlib.pyplot as plt\n",
    "import seaborn as sns\n",
    "import numpy as np\n",
    "from sklearn.feature_selection import SelectKBest\n",
    "from sklearn.feature_selection import chi2\n",
    "from sklearn.preprocessing import OrdinalEncoder\n",
    "from sklearn.feature_selection import mutual_info_classif\n",
    "from sklearn.feature_selection import f_regression\n",
    "from sklearn.feature_selection import f_classif\n",
    "from itertools import combinations\n",
    "import fs_pp"
   ]
  },
  {
   "cell_type": "code",
   "execution_count": null,
   "metadata": {
    "id": "IYp3Aaetuiha"
   },
   "outputs": [],
   "source": [
    "pd.set_option('display.max_rows', None)"
   ]
  },
  {
   "cell_type": "markdown",
   "metadata": {
    "id": "u6irlVQKjbFh"
   },
   "source": [
    "# Importando dados"
   ]
  },
  {
   "cell_type": "code",
   "execution_count": 2,
   "metadata": {
    "colab": {
     "base_uri": "https://localhost:8080/",
     "height": 247
    },
    "collapsed": true,
    "executionInfo": {
     "elapsed": 2141,
     "status": "ok",
     "timestamp": 1603983445154,
     "user": {
      "displayName": "Alan Henrique Ferreira",
      "photoUrl": "https://lh3.googleusercontent.com/a-/AOh14GjpVgl9IJk6pjvwLIAIPQAUAFSVmp1oPr_BectE6pc=s64",
      "userId": "10045617388689385523"
     },
     "user_tz": 180
    },
    "id": "trgTR7dACLrm",
    "jupyter": {
     "outputs_hidden": true
    },
    "outputId": "4ff01562-db9c-4036-826b-746b4d3a91cd"
   },
   "outputs": [
    {
     "name": "stderr",
     "output_type": "stream",
     "text": [
      "b'Skipping line 1974: expected 13 fields, saw 14\\nSkipping line 4350: expected 13 fields, saw 14\\nSkipping line 4631: expected 13 fields, saw 24\\nSkipping line 5710: expected 13 fields, saw 24\\nSkipping line 6525: expected 13 fields, saw 24\\nSkipping line 6919: expected 13 fields, saw 16\\nSkipping line 6930: expected 13 fields, saw 14\\nSkipping line 7349: expected 13 fields, saw 16\\nSkipping line 7367: expected 13 fields, saw 15\\nSkipping line 8897: expected 13 fields, saw 24\\nSkipping line 9876: expected 13 fields, saw 24\\nSkipping line 9941: expected 13 fields, saw 17\\nSkipping line 10530: expected 13 fields, saw 16\\nSkipping line 10531: expected 13 fields, saw 17\\nSkipping line 10532: expected 13 fields, saw 18\\nSkipping line 11839: expected 13 fields, saw 18\\nSkipping line 12328: expected 13 fields, saw 14\\nSkipping line 12540: expected 13 fields, saw 23\\nSkipping line 13098: expected 13 fields, saw 36\\nSkipping line 13758: expected 13 fields, saw 16\\nSkipping line 13800: expected 13 fields, saw 15\\nSkipping line 13814: expected 13 fields, saw 25\\nSkipping line 14138: expected 13 fields, saw 23\\n'\n"
     ]
    },
    {
     "data": {
      "text/html": [
       "<div>\n",
       "<style scoped>\n",
       "    .dataframe tbody tr th:only-of-type {\n",
       "        vertical-align: middle;\n",
       "    }\n",
       "\n",
       "    .dataframe tbody tr th {\n",
       "        vertical-align: top;\n",
       "    }\n",
       "\n",
       "    .dataframe thead th {\n",
       "        text-align: right;\n",
       "    }\n",
       "</style>\n",
       "<table border=\"1\" class=\"dataframe\">\n",
       "  <thead>\n",
       "    <tr style=\"text-align: right;\">\n",
       "      <th></th>\n",
       "      <th>H</th>\n",
       "      <th>title</th>\n",
       "      <th>@1922</th>\n",
       "      <th>D:Hitchcock</th>\n",
       "      <th>prds</th>\n",
       "      <th>st</th>\n",
       "      <th>prc</th>\n",
       "      <th>prc.1</th>\n",
       "      <th>cat</th>\n",
       "      <th>aw</th>\n",
       "      <th>locale</th>\n",
       "      <th>Nt(first, all)</th>\n",
       "      <th>|</th>\n",
       "    </tr>\n",
       "  </thead>\n",
       "  <tbody>\n",
       "    <tr>\n",
       "      <th>3206</th>\n",
       "      <td>HHa3</td>\n",
       "      <td>T:Man of the Forest</td>\n",
       "      <td>1933</td>\n",
       "      <td>D:Hathaway</td>\n",
       "      <td>PN:</td>\n",
       "      <td>SU:</td>\n",
       "      <td>bnw</td>\n",
       "      <td>West</td>\n",
       "      <td>NaN</td>\n",
       "      <td>West</td>\n",
       "      <td>|</td>\n",
       "      <td>NaN</td>\n",
       "      <td>NaN</td>\n",
       "    </tr>\n",
       "    <tr>\n",
       "      <th>1590</th>\n",
       "      <td>TWh30</td>\n",
       "      <td>T:St.~Martin's Lane</td>\n",
       "      <td>1938</td>\n",
       "      <td>D:Whelan</td>\n",
       "      <td>PN:</td>\n",
       "      <td>SU:</td>\n",
       "      <td>prc</td>\n",
       "      <td>Ctxx</td>\n",
       "      <td>aw</td>\n",
       "      <td>lc</td>\n",
       "      <td>NaN</td>\n",
       "      <td>|</td>\n",
       "      <td>NaN</td>\n",
       "    </tr>\n",
       "    <tr>\n",
       "      <th>844</th>\n",
       "      <td>FLl7</td>\n",
       "      <td>T:Les Mis\\'erables</td>\n",
       "      <td>1918</td>\n",
       "      <td>D:F.Lloyd</td>\n",
       "      <td>PN:</td>\n",
       "      <td>SL:USA,England</td>\n",
       "      <td>NaN</td>\n",
       "      <td>Dram</td>\n",
       "      <td>aw</td>\n",
       "      <td>lc</td>\n",
       "      <td>Nt(\\#3)</td>\n",
       "      <td>|</td>\n",
       "      <td>NaN</td>\n",
       "    </tr>\n",
       "  </tbody>\n",
       "</table>\n",
       "</div>"
      ],
      "text/plain": [
       "          H                title @1922 D:Hitchcock prds              st  ... prc.1  cat    aw   locale Nt(first, all)    |\n",
       "3206   HHa3  T:Man of the Forest  1933  D:Hathaway  PN:             SU:  ...  West  NaN  West        |            NaN  NaN\n",
       "1590  TWh30  T:St.~Martin's Lane  1938    D:Whelan  PN:             SU:  ...  Ctxx   aw    lc      NaN              |  NaN\n",
       "844    FLl7   T:Les Mis\\'erables  1918   D:F.Lloyd  PN:  SL:USA,England  ...  Dram   aw    lc  Nt(\\#3)              |  NaN\n",
       "\n",
       "[3 rows x 13 columns]"
      ]
     },
     "execution_count": 2,
     "metadata": {},
     "output_type": "execute_result"
    }
   ],
   "source": [
    "dados = pd.read_csv('https://drive.google.com/uc?export=download&id=1HzSQN0r64a6a3vkPcpPyeKjk-BDFWyPc', error_bad_lines=False)\n",
    "dados.sample(3)"
   ]
  },
  {
   "cell_type": "markdown",
   "metadata": {
    "id": "YzB6PdAgnT6o"
   },
   "source": [
    "# Filtrando colunas de possível relevancia para modelo"
   ]
  },
  {
   "cell_type": "code",
   "execution_count": 3,
   "metadata": {
    "colab": {
     "base_uri": "https://localhost:8080/",
     "height": 142
    },
    "executionInfo": {
     "elapsed": 611,
     "status": "ok",
     "timestamp": 1603983484413,
     "user": {
      "displayName": "Alan Henrique Ferreira",
      "photoUrl": "https://lh3.googleusercontent.com/a-/AOh14GjpVgl9IJk6pjvwLIAIPQAUAFSVmp1oPr_BectE6pc=s64",
      "userId": "10045617388689385523"
     },
     "user_tz": 180
    },
    "id": "g_aTIRR1EkIZ",
    "outputId": "4716a23c-e22e-48cc-d1b4-7bff018e73f5"
   },
   "outputs": [
    {
     "data": {
      "text/html": [
       "<div>\n",
       "<style scoped>\n",
       "    .dataframe tbody tr th:only-of-type {\n",
       "        vertical-align: middle;\n",
       "    }\n",
       "\n",
       "    .dataframe tbody tr th {\n",
       "        vertical-align: top;\n",
       "    }\n",
       "\n",
       "    .dataframe thead th {\n",
       "        text-align: right;\n",
       "    }\n",
       "</style>\n",
       "<table border=\"1\" class=\"dataframe\">\n",
       "  <thead>\n",
       "    <tr style=\"text-align: right;\">\n",
       "      <th></th>\n",
       "      <th>D:Hitchcock</th>\n",
       "      <th>prds</th>\n",
       "      <th>prc</th>\n",
       "      <th>st</th>\n",
       "    </tr>\n",
       "  </thead>\n",
       "  <tbody>\n",
       "    <tr>\n",
       "      <th>7784</th>\n",
       "      <td>D:R.Lester</td>\n",
       "      <td>PN:Alex Winitsky, Arlene Sellers</td>\n",
       "      <td>\\Tcol</td>\n",
       "      <td>St:U.A.</td>\n",
       "    </tr>\n",
       "    <tr>\n",
       "      <th>976</th>\n",
       "      <td>D:Niblo</td>\n",
       "      <td>PN:</td>\n",
       "      <td>NaN</td>\n",
       "      <td>SU:</td>\n",
       "    </tr>\n",
       "    <tr>\n",
       "      <th>11349</th>\n",
       "      <td>D:Lyne</td>\n",
       "      <td>PN:</td>\n",
       "      <td>prc</td>\n",
       "      <td>SU:</td>\n",
       "    </tr>\n",
       "  </tbody>\n",
       "</table>\n",
       "</div>"
      ],
      "text/plain": [
       "      D:Hitchcock                              prds    prc       st\n",
       "7784   D:R.Lester  PN:Alex Winitsky, Arlene Sellers  \\Tcol  St:U.A.\n",
       "976       D:Niblo                               PN:    NaN      SU:\n",
       "11349      D:Lyne                               PN:    prc      SU:"
      ]
     },
     "execution_count": 3,
     "metadata": {},
     "output_type": "execute_result"
    }
   ],
   "source": [
    "filter_columns = dados[['D:Hitchcock','prds','prc','st']]\n",
    "filter_columns.sample(3)"
   ]
  },
  {
   "cell_type": "markdown",
   "metadata": {
    "id": "kcUBHlicnWv-"
   },
   "source": [
    "# Renomeando colunas"
   ]
  },
  {
   "cell_type": "code",
   "execution_count": 4,
   "metadata": {},
   "outputs": [
    {
     "name": "stdout",
     "output_type": "stream",
     "text": [
      "<class 'pandas.core.frame.DataFrame'>\n",
      "RangeIndex: 14402 entries, 0 to 14401\n",
      "Data columns (total 4 columns):\n",
      " #   Column    Non-Null Count  Dtype \n",
      "---  ------    --------------  ----- \n",
      " 0   diretor   14395 non-null  object\n",
      " 1   produtor  14385 non-null  object\n",
      " 2   genero    13725 non-null  object\n",
      " 3   estudio   14387 non-null  object\n",
      "dtypes: object(4)\n",
      "memory usage: 450.2+ KB\n"
     ]
    }
   ],
   "source": [
    "filter_columns.columns=['diretor','produtor','genero','estudio']\n",
    "filter_columns.info()"
   ]
  },
  {
   "cell_type": "markdown",
   "metadata": {},
   "source": [
    "# Padronizando Tipos de dados para fetures/target"
   ]
  },
  {
   "cell_type": "code",
   "execution_count": 5,
   "metadata": {
    "executionInfo": {
     "elapsed": 676,
     "status": "ok",
     "timestamp": 1603983490693,
     "user": {
      "displayName": "Alan Henrique Ferreira",
      "photoUrl": "https://lh3.googleusercontent.com/a-/AOh14GjpVgl9IJk6pjvwLIAIPQAUAFSVmp1oPr_BectE6pc=s64",
      "userId": "10045617388689385523"
     },
     "user_tz": 180
    },
    "id": "oVKw8CmaFZ3Z"
   },
   "outputs": [
    {
     "name": "stdout",
     "output_type": "stream",
     "text": [
      "<class 'pandas.core.frame.DataFrame'>\n",
      "RangeIndex: 14402 entries, 0 to 14401\n",
      "Data columns (total 4 columns):\n",
      " #   Column    Non-Null Count  Dtype   \n",
      "---  ------    --------------  -----   \n",
      " 0   diretor   14395 non-null  category\n",
      " 1   produtor  14385 non-null  category\n",
      " 2   genero    13725 non-null  category\n",
      " 3   estudio   14387 non-null  category\n",
      "dtypes: category(4)\n",
      "memory usage: 339.4 KB\n"
     ]
    }
   ],
   "source": [
    "columns= ['diretor','produtor','genero','estudio']\n",
    "format_type = fs_pp.to_type(filter_columns,columns, 'category')\n",
    "format_type.info()"
   ]
  },
  {
   "cell_type": "markdown",
   "metadata": {
    "id": "gt-uWoP1S2WX"
   },
   "source": [
    "# Removendo inconsistência de dados categóricos ou atribuindo NaN a um dado irrelevante\n",
    "*   Eliminação de caracteres e marcadores indesejados (D:, F:, etc)\n",
    "*   Eliminação de multiplas categorias em um mesmo exemplo (considerar o primeiro)\n",
    "\n"
   ]
  },
  {
   "cell_type": "code",
   "execution_count": 6,
   "metadata": {},
   "outputs": [
    {
     "name": "stderr",
     "output_type": "stream",
     "text": [
      "C:\\Users\\Nuc\\miniconda3\\lib\\site-packages\\pandas\\core\\strings\\accessor.py:101: UserWarning: This pattern has match groups. To actually get the groups, use str.extract.\n",
      "  return func(self, *args, **kwargs)\n"
     ]
    },
    {
     "data": {
      "text/html": [
       "<div>\n",
       "<style scoped>\n",
       "    .dataframe tbody tr th:only-of-type {\n",
       "        vertical-align: middle;\n",
       "    }\n",
       "\n",
       "    .dataframe tbody tr th {\n",
       "        vertical-align: top;\n",
       "    }\n",
       "\n",
       "    .dataframe thead th {\n",
       "        text-align: right;\n",
       "    }\n",
       "</style>\n",
       "<table border=\"1\" class=\"dataframe\">\n",
       "  <thead>\n",
       "    <tr style=\"text-align: right;\">\n",
       "      <th></th>\n",
       "      <th>diretor</th>\n",
       "      <th>produtor</th>\n",
       "      <th>genero</th>\n",
       "      <th>estudio</th>\n",
       "    </tr>\n",
       "  </thead>\n",
       "  <tbody>\n",
       "    <tr>\n",
       "      <th>8983</th>\n",
       "      <td>Waters</td>\n",
       "      <td>NaN</td>\n",
       "      <td>col</td>\n",
       "      <td>NaN</td>\n",
       "    </tr>\n",
       "    <tr>\n",
       "      <th>5017</th>\n",
       "      <td>D.Siegel</td>\n",
       "      <td>D.Siegel</td>\n",
       "      <td>Pathecolor</td>\n",
       "      <td>Universal</td>\n",
       "    </tr>\n",
       "    <tr>\n",
       "      <th>7245</th>\n",
       "      <td>N.Lloyd</td>\n",
       "      <td>Hitchcock</td>\n",
       "      <td>bnw</td>\n",
       "      <td>Shamley</td>\n",
       "    </tr>\n",
       "    <tr>\n",
       "      <th>996</th>\n",
       "      <td>K.Vidor</td>\n",
       "      <td>NaN</td>\n",
       "      <td>prc</td>\n",
       "      <td>NaN</td>\n",
       "    </tr>\n",
       "    <tr>\n",
       "      <th>3980</th>\n",
       "      <td>A.Malraux</td>\n",
       "      <td>A.Malraux</td>\n",
       "      <td>prc</td>\n",
       "      <td>NaN</td>\n",
       "    </tr>\n",
       "    <tr>\n",
       "      <th>10635</th>\n",
       "      <td>G.Murphy</td>\n",
       "      <td>NaN</td>\n",
       "      <td>prc</td>\n",
       "      <td>NZ</td>\n",
       "    </tr>\n",
       "    <tr>\n",
       "      <th>6992</th>\n",
       "      <td>Mulligan</td>\n",
       "      <td>NaN</td>\n",
       "      <td>prc</td>\n",
       "      <td>NaN</td>\n",
       "    </tr>\n",
       "    <tr>\n",
       "      <th>9918</th>\n",
       "      <td>Bass</td>\n",
       "      <td>Paul B. Radin</td>\n",
       "      <td>Tcol</td>\n",
       "      <td>Paramount</td>\n",
       "    </tr>\n",
       "    <tr>\n",
       "      <th>9482</th>\n",
       "      <td>Annaud</td>\n",
       "      <td>NaN</td>\n",
       "      <td>col</td>\n",
       "      <td>NaN</td>\n",
       "    </tr>\n",
       "    <tr>\n",
       "      <th>1101</th>\n",
       "      <td>Curtiz</td>\n",
       "      <td>Robert Fellows</td>\n",
       "      <td>bnw</td>\n",
       "      <td>Warners</td>\n",
       "    </tr>\n",
       "  </tbody>\n",
       "</table>\n",
       "</div>"
      ],
      "text/plain": [
       "         diretor        produtor      genero    estudio\n",
       "8983      Waters             NaN         col        NaN\n",
       "5017    D.Siegel        D.Siegel  Pathecolor  Universal\n",
       "7245     N.Lloyd       Hitchcock         bnw    Shamley\n",
       "996      K.Vidor             NaN         prc        NaN\n",
       "3980   A.Malraux       A.Malraux         prc        NaN\n",
       "10635   G.Murphy             NaN         prc         NZ\n",
       "6992    Mulligan             NaN         prc        NaN\n",
       "9918        Bass   Paul B. Radin        Tcol  Paramount\n",
       "9482      Annaud             NaN         col        NaN\n",
       "1101      Curtiz  Robert Fellows         bnw    Warners"
      ]
     },
     "execution_count": 6,
     "metadata": {},
     "output_type": "execute_result"
    }
   ],
   "source": [
    "clean_elements = fs_pp.remove_incoherence(format_type, r'D:|F:|P:|PN:|SU:|St:|SL:|S:|PU:', r'')\n",
    "clean_elements = fs_pp.remove_incoherence(clean_elements, r'(.*)\\,.+', r'\\1')\n",
    "clean_elements = fs_pp.remove_incoherence(clean_elements, r'(.*);.*', r'\\1')\n",
    "clean_elements = fs_pp.remove_incoherence(clean_elements, r'.*\\\\(.*)', r'\\1')\n",
    "clean_elements = fs_pp.remove_incoherence(clean_elements, r'(.*)\\\\.*', r'\\1')\n",
    "clean_elements = fs_pp.remove_incoherence(clean_elements, r'(.*) and .*', r'\\1')\n",
    "clean_elements = fs_pp.remove_incoherence(clean_elements, r'^st\\.$|^st$|^prds$|^$|^\\s+$', np.nan)\n",
    "clean_elements.sample(10)"
   ]
  },
  {
   "cell_type": "markdown",
   "metadata": {
    "id": "B8lHnt4-iatN"
   },
   "source": [
    "# Drop nulls"
   ]
  },
  {
   "cell_type": "code",
   "execution_count": 7,
   "metadata": {
    "colab": {
     "base_uri": "https://localhost:8080/"
    },
    "executionInfo": {
     "elapsed": 700,
     "status": "ok",
     "timestamp": 1603850654227,
     "user": {
      "displayName": "Alan Henrique Ferreira",
      "photoUrl": "https://lh3.googleusercontent.com/a-/AOh14GjpVgl9IJk6pjvwLIAIPQAUAFSVmp1oPr_BectE6pc=s64",
      "userId": "10045617388689385523"
     },
     "user_tz": 180
    },
    "id": "ALYYXL-Wie4G",
    "outputId": "71ff95b4-c57e-465f-9771-d28eee71068c"
   },
   "outputs": [
    {
     "name": "stdout",
     "output_type": "stream",
     "text": [
      "<class 'pandas.core.frame.DataFrame'>\n",
      "Int64Index: 4065 entries, 0 to 14261\n",
      "Data columns (total 4 columns):\n",
      " #   Column    Non-Null Count  Dtype \n",
      "---  ------    --------------  ----- \n",
      " 0   diretor   4065 non-null   object\n",
      " 1   produtor  4065 non-null   object\n",
      " 2   genero    4065 non-null   object\n",
      " 3   estudio   4065 non-null   object\n",
      "dtypes: object(4)\n",
      "memory usage: 158.8+ KB\n"
     ]
    }
   ],
   "source": [
    "clean_elements.dropna(inplace=True)\n",
    "clean_elements.info()"
   ]
  },
  {
   "cell_type": "markdown",
   "metadata": {
    "id": "-AYfdZJMitu-"
   },
   "source": [
    "# Eliminando registros para labels (target) com frequencia <= a k% do label com maior frequência (Quando não é possui obter mais dados para balancear classes)"
   ]
  },
  {
   "cell_type": "code",
   "execution_count": 9,
   "metadata": {
    "colab": {
     "base_uri": "https://localhost:8080/"
    },
    "executionInfo": {
     "elapsed": 454,
     "status": "ok",
     "timestamp": 1603850666135,
     "user": {
      "displayName": "Alan Henrique Ferreira",
      "photoUrl": "https://lh3.googleusercontent.com/a-/AOh14GjpVgl9IJk6pjvwLIAIPQAUAFSVmp1oPr_BectE6pc=s64",
      "userId": "10045617388689385523"
     },
     "user_tz": 180
    },
    "id": "3sW4W6kvxz-G",
    "outputId": "b32b43a3-cc5b-49bb-9560-555e1a2d63e6"
   },
   "outputs": [
    {
     "data": {
      "text/plain": [
       "Shamley      353\n",
       "Paramount    341\n",
       "MGM          341\n",
       "Fox          338\n",
       "Warners      331\n",
       "Universal    246\n",
       "Columbia     192\n",
       "U.A.         182\n",
       "RKO          169\n",
       "Name: estudio, dtype: int64"
      ]
     },
     "execution_count": 9,
     "metadata": {},
     "output_type": "execute_result"
    }
   ],
   "source": [
    "balance_target = fs_pp.remove_low_freq(clean_elements, target_name='estudio', threshold=0.25)\n",
    "balance_target['estudio'].value_counts()"
   ]
  },
  {
   "cell_type": "code",
   "execution_count": 11,
   "metadata": {},
   "outputs": [
    {
     "data": {
      "text/plain": [
       "R.Stevens        48\n",
       "Hitchcock        43\n",
       "Henreid          32\n",
       "Daugherty        28\n",
       "Cukor            28\n",
       "N.Lloyd          23\n",
       "Curtiz           23\n",
       "Hathaway         20\n",
       "J.Ford           19\n",
       "Crosland~jr      19\n",
       "M.LeRoy          18\n",
       "Brahm            15\n",
       "W.Lang           15\n",
       "Wyler            13\n",
       "R.Thorpe         13\n",
       "J.Huston         13\n",
       "Taurog           13\n",
       "Neilson          13\n",
       "H.King           13\n",
       "S.Pollack        13\n",
       "Koster           13\n",
       "R.Fleischer      13\n",
       "J.Newman         12\n",
       "Kjellin          12\n",
       "Minnelli         12\n",
       "B.Wilder         12\n",
       "G.Stevens~sr.    12\n",
       "Dieterle         12\n",
       "Name: diretor, dtype: int64"
      ]
     },
     "execution_count": 11,
     "metadata": {},
     "output_type": "execute_result"
    }
   ],
   "source": [
    "balance_diretor = fs_pp.remove_low_freq(balance_target, target_name='diretor', threshold=0.25)\n",
    "balance_diretor['diretor'].value_counts()"
   ]
  },
  {
   "cell_type": "code",
   "execution_count": 12,
   "metadata": {},
   "outputs": [
    {
     "data": {
      "text/plain": [
       "Hitchcock    232\n",
       "Name: produtor, dtype: int64"
      ]
     },
     "execution_count": 12,
     "metadata": {},
     "output_type": "execute_result"
    }
   ],
   "source": [
    "balance_produtor = fs_pp.remove_low_freq(balance_diretor, target_name='produtor', threshold=0.25)\n",
    "balance_produtor['produtor'].value_counts()"
   ]
  },
  {
   "cell_type": "markdown",
   "metadata": {},
   "source": [
    "# Resetando Index"
   ]
  },
  {
   "cell_type": "code",
   "execution_count": 10,
   "metadata": {
    "collapsed": true,
    "jupyter": {
     "outputs_hidden": true
    }
   },
   "outputs": [
    {
     "data": {
      "text/html": [
       "<div>\n",
       "<style scoped>\n",
       "    .dataframe tbody tr th:only-of-type {\n",
       "        vertical-align: middle;\n",
       "    }\n",
       "\n",
       "    .dataframe tbody tr th {\n",
       "        vertical-align: top;\n",
       "    }\n",
       "\n",
       "    .dataframe thead th {\n",
       "        text-align: right;\n",
       "    }\n",
       "</style>\n",
       "<table border=\"1\" class=\"dataframe\">\n",
       "  <thead>\n",
       "    <tr style=\"text-align: right;\">\n",
       "      <th></th>\n",
       "      <th>diretor</th>\n",
       "      <th>produtor</th>\n",
       "      <th>genero</th>\n",
       "      <th>estudio</th>\n",
       "    </tr>\n",
       "  </thead>\n",
       "  <tbody>\n",
       "    <tr>\n",
       "      <th>0</th>\n",
       "      <td>Se.Hicks</td>\n",
       "      <td>Lasky</td>\n",
       "      <td>sbw</td>\n",
       "      <td>Famous</td>\n",
       "    </tr>\n",
       "    <tr>\n",
       "      <th>1</th>\n",
       "      <td>Hitchcock</td>\n",
       "      <td>Hitchcock</td>\n",
       "      <td>sbw</td>\n",
       "      <td>Islington</td>\n",
       "    </tr>\n",
       "    <tr>\n",
       "      <th>2</th>\n",
       "      <td>Hitchcock</td>\n",
       "      <td>Balcon</td>\n",
       "      <td>sbw</td>\n",
       "      <td>B-S-F</td>\n",
       "    </tr>\n",
       "    <tr>\n",
       "      <th>3</th>\n",
       "      <td>Hitchcock</td>\n",
       "      <td>Balcon</td>\n",
       "      <td>sbw</td>\n",
       "      <td>Gainsborough</td>\n",
       "    </tr>\n",
       "    <tr>\n",
       "      <th>4</th>\n",
       "      <td>Hitchcock</td>\n",
       "      <td>Balcon</td>\n",
       "      <td>sbw</td>\n",
       "      <td>UFA</td>\n",
       "    </tr>\n",
       "    <tr>\n",
       "      <th>...</th>\n",
       "      <td>...</td>\n",
       "      <td>...</td>\n",
       "      <td>...</td>\n",
       "      <td>...</td>\n",
       "    </tr>\n",
       "    <tr>\n",
       "      <th>4060</th>\n",
       "      <td>Blanks</td>\n",
       "      <td>Neal Moritz</td>\n",
       "      <td>prc</td>\n",
       "      <td>Phoenix</td>\n",
       "    </tr>\n",
       "    <tr>\n",
       "      <th>4061</th>\n",
       "      <td>Katzenberg</td>\n",
       "      <td>Katzenberg</td>\n",
       "      <td>col</td>\n",
       "      <td>Dreamworks</td>\n",
       "    </tr>\n",
       "    <tr>\n",
       "      <th>4062</th>\n",
       "      <td>M.S.Johnson</td>\n",
       "      <td>Laurence Usher</td>\n",
       "      <td>col</td>\n",
       "      <td>Hollywood</td>\n",
       "    </tr>\n",
       "    <tr>\n",
       "      <th>4063</th>\n",
       "      <td>Dragojevic</td>\n",
       "      <td>Dragan Bjelogric</td>\n",
       "      <td>prc</td>\n",
       "      <td>SLeisure Time</td>\n",
       "    </tr>\n",
       "    <tr>\n",
       "      <th>4064</th>\n",
       "      <td>Schwartz</td>\n",
       "      <td>Richard Holmes</td>\n",
       "      <td>col</td>\n",
       "      <td>Fox</td>\n",
       "    </tr>\n",
       "  </tbody>\n",
       "</table>\n",
       "<p>4065 rows × 4 columns</p>\n",
       "</div>"
      ],
      "text/plain": [
       "          diretor          produtor genero        estudio\n",
       "0        Se.Hicks             Lasky    sbw         Famous\n",
       "1       Hitchcock         Hitchcock    sbw      Islington\n",
       "2       Hitchcock            Balcon    sbw          B-S-F\n",
       "3       Hitchcock            Balcon    sbw   Gainsborough\n",
       "4       Hitchcock            Balcon    sbw            UFA\n",
       "...           ...               ...    ...            ...\n",
       "4060       Blanks       Neal Moritz    prc        Phoenix\n",
       "4061   Katzenberg        Katzenberg    col     Dreamworks\n",
       "4062  M.S.Johnson    Laurence Usher    col      Hollywood\n",
       "4063   Dragojevic  Dragan Bjelogric    prc  SLeisure Time\n",
       "4064     Schwartz    Richard Holmes    col            Fox\n",
       "\n",
       "[4065 rows x 4 columns]"
      ]
     },
     "execution_count": 10,
     "metadata": {},
     "output_type": "execute_result"
    }
   ],
   "source": [
    "balance_produtor.reset_index(drop=True)"
   ]
  },
  {
   "cell_type": "markdown",
   "metadata": {
    "id": "FsC9lWq-niLR"
   },
   "source": [
    "# Feature selector"
   ]
  },
  {
   "cell_type": "code",
   "execution_count": 18,
   "metadata": {
    "id": "fLwbXYC6ms0T"
   },
   "outputs": [
    {
     "name": "stderr",
     "output_type": "stream",
     "text": [
      "C:\\Users\\Nuc\\miniconda3\\lib\\site-packages\\sklearn\\utils\\validation.py:72: DataConversionWarning: A column-vector y was passed when a 1d array was expected. Please change the shape of y to (n_samples, ), for example using ravel().\n",
      "  return f(**kwargs)\n"
     ]
    },
    {
     "name": "stdout",
     "output_type": "stream",
     "text": [
      "Feature diretor: 0.345194\n",
      "Feature produtor: 0.009217\n",
      "Feature genero: 0.104929\n"
     ]
    }
   ],
   "source": [
    "features = ['diretor','produtor','genero']\n",
    "target = ['estudio']\n",
    "fs_scores= fs_pp.feature_selection(balance_produtor,features,target,'cat_cat')\n",
    "\n",
    "for i in range(len(fs_scores)):\n",
    "    print('Feature %s: %f' % (features[i], fs_scores[i]))"
   ]
  },
  {
   "cell_type": "markdown",
   "metadata": {},
   "source": [
    "# Visualizando correlação feature_n x feature_m ~ target"
   ]
  },
  {
   "cell_type": "code",
   "execution_count": 42,
   "metadata": {},
   "outputs": [],
   "source": [
    "def subplot_strip(Dataset,features,target):\n",
    "  perm_features = list(combinations(features, 2))\n",
    "  fig, axes = plt.subplots(len(perm_features),1,figsize=(10,len(perm_features)*10))\n",
    "  \n",
    "  for i, perm in enumerate(perm_features):\n",
    "        sns.stripplot(ax=axes[i],data=Dataset,x=perm[0],y=perm[1], hue=target)\n",
    "  plt.show()"
   ]
  },
  {
   "cell_type": "code",
   "execution_count": 43,
   "metadata": {},
   "outputs": [],
   "source": [
    "fs_pp.subplot_strip(balance_produtor,features,'estudio')"
   ]
  },
  {
   "cell_type": "code",
   "execution_count": null,
   "metadata": {},
   "outputs": [],
   "source": [
    "Dados provavelmente não irão contribuir para convergencia do modelo!"
   ]
  }
 ],
 "metadata": {
  "colab": {
   "authorship_tag": "ABX9TyM43Q1pKLWXRDSfhK8WAgHJ",
   "mount_file_id": "1eJ9a2T0LuKNROnZyDLA_gU2k2P5LNFaA",
   "name": "poc-otimizador-demanda_pre-proc_UCI-movies_29-10.ipynb",
   "provenance": [
    {
     "file_id": "1eJ9a2T0LuKNROnZyDLA_gU2k2P5LNFaA",
     "timestamp": 1603981992013
    }
   ],
   "toc_visible": true
  },
  "kernelspec": {
   "display_name": "Python 3.7 (XPython)",
   "language": "python",
   "name": "xpython"
  },
  "language_info": {
   "file_extension": ".py",
   "mimetype": "text/x-python",
   "name": "python",
   "version": "3.7.9"
  }
 },
 "nbformat": 4,
 "nbformat_minor": 4
}
